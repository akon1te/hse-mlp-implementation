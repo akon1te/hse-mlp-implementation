{
 "cells": [
  {
   "cell_type": "code",
   "execution_count": 1,
   "metadata": {},
   "outputs": [],
   "source": [
    "import sys\n",
    "sys.path.append('../')\n",
    "\n",
    "from src.layers.linear import Linear\n",
    "from src.activation.functional import ReLU, Softmax, MSELoss\n",
    "from src.optim.optim import SGD\n",
    "from src.utils.model import ModelClass\n",
    "\n",
    "import numpy as np"
   ]
  },
  {
   "cell_type": "code",
   "execution_count": 2,
   "metadata": {},
   "outputs": [],
   "source": [
    "class MLP(ModelClass):\n",
    "    def __init__(self, input_size, output_size, hidden_size):\n",
    "        self.input_size = input_size\n",
    "        self.output_size = output_size\n",
    "        self.hidden_size = hidden_size\n",
    "        \n",
    "        self.layers = [Linear(input_size, hidden_size),\n",
    "                       ReLU(), \n",
    "                       Linear(hidden_size, output_size),\n",
    "                       Softmax()\n",
    "                       ]\n",
    "        \n",
    "    def __call__(self, x: np.ndarray) -> np.ndarray:\n",
    "        assert len(self.layers) > 0\n",
    "        for layer in self.layers:\n",
    "            x = layer(x)\n",
    "        return x"
   ]
  },
  {
   "cell_type": "code",
   "execution_count": 3,
   "metadata": {},
   "outputs": [],
   "source": [
    "model = MLP(input_size=5, output_size=10, hidden_size=10)"
   ]
  },
  {
   "cell_type": "code",
   "execution_count": 4,
   "metadata": {},
   "outputs": [],
   "source": [
    "inputs = np.array([[0.5, 0.7, 0.3, 0.1, 0.8],\n",
    "                   [0.1, 0.6, 0.9, 0.01, 0.4]])\n",
    "gt = np.array([2])"
   ]
  },
  {
   "cell_type": "code",
   "execution_count": 5,
   "metadata": {},
   "outputs": [
    {
     "data": {
      "text/plain": [
       "array([[0.11030189, 0.08927539, 0.1190022 , 0.11251624, 0.07165914,\n",
       "        0.09748807, 0.08633985, 0.15929211, 0.08193449, 0.07219062],\n",
       "       [0.10972655, 0.08591191, 0.12106468, 0.11440065, 0.08015815,\n",
       "        0.09476197, 0.08071493, 0.16425397, 0.07861627, 0.07039092]])"
      ]
     },
     "execution_count": 5,
     "metadata": {},
     "output_type": "execute_result"
    }
   ],
   "source": [
    "model(inputs)"
   ]
  },
  {
   "cell_type": "code",
   "execution_count": null,
   "metadata": {},
   "outputs": [],
   "source": []
  }
 ],
 "metadata": {
  "kernelspec": {
   "display_name": "venv",
   "language": "python",
   "name": "python3"
  },
  "language_info": {
   "codemirror_mode": {
    "name": "ipython",
    "version": 3
   },
   "file_extension": ".py",
   "mimetype": "text/x-python",
   "name": "python",
   "nbconvert_exporter": "python",
   "pygments_lexer": "ipython3",
   "version": "3.9.6"
  }
 },
 "nbformat": 4,
 "nbformat_minor": 2
}
