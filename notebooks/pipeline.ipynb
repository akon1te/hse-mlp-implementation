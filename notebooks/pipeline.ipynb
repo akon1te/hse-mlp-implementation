{
 "cells": [
  {
   "cell_type": "code",
   "execution_count": 11,
   "metadata": {},
   "outputs": [],
   "source": [
    "import sys\n",
    "sys.path.append('../')\n",
    "\n",
    "from src.nn.linear import Linear\n",
    "from src.nn.functional import ReLU, Softmax, MSELoss\n",
    "from src.optim.optim import SGD\n",
    "from src.utils.template import BaseClass\n",
    "from src.utils.dataset import MnistDataset\n",
    "from src.utils.trainer import Trainer\n",
    "\n",
    "import torch\n",
    "from torch import nn\n",
    "from torch.utils.data import DataLoader\n",
    "\n",
    "import numpy as np\n",
    "\n",
    "import random\n",
    "import matplotlib.pyplot as plt\n",
    "\n",
    "%matplotlib inline"
   ]
  },
  {
   "cell_type": "code",
   "execution_count": 12,
   "metadata": {},
   "outputs": [],
   "source": [
    "training_images_filepath = \"/home/tim/repos/hse-mlp-implementation/data/train-images.idx3-ubyte\" #join(local_path, input_folder, 'train-images-idx3-ubyte')\n",
    "training_labels_filepath = \"/home/tim/repos/hse-mlp-implementation/data/train-labels.idx1-ubyte\" #join(local_path, input_folder, 'train-labels-idx1-ubyte')\n",
    "test_images_filepath = \"/home/tim/repos/hse-mlp-implementation/data/t10k-images.idx3-ubyte\" #join(local_path, input_folder, 't10k-images-idx3-ubyte')\n",
    "test_labels_filepath = \"/home/tim/repos/hse-mlp-implementation/data/t10k-labels.idx1-ubyte\" #join(local_path, input_folder, 't10k-labels-idx1-ubyte')\n",
    "\n",
    "mnist_train = MnistDataset(training_images_filepath, training_labels_filepath)\n",
    "mnist_test = MnistDataset(test_images_filepath, test_labels_filepath)"
   ]
  },
  {
   "cell_type": "code",
   "execution_count": 13,
   "metadata": {},
   "outputs": [],
   "source": [
    "class MLP(BaseClass):\n",
    "    def __init__(self, input_size, output_size, hidden_size):\n",
    "        self.input_size = input_size\n",
    "        self.output_size = output_size\n",
    "        self.hidden_size = hidden_size\n",
    "        \n",
    "        self.layers = [\n",
    "            Linear(input_size, hidden_size),\n",
    "            ReLU(), \n",
    "            Linear(hidden_size, output_size),\n",
    "            Softmax()\n",
    "        ]\n",
    "\n",
    "    def forward(self, x: np.ndarray) -> np.ndarray:\n",
    "        assert len(self.layers) > 0\n",
    "        for layer in self.layers:\n",
    "            x = layer(x)\n",
    "        return x"
   ]
  },
  {
   "cell_type": "code",
   "execution_count": 14,
   "metadata": {},
   "outputs": [],
   "source": [
    "train_dataloader = DataLoader(mnist_train, batch_size=64, shuffle=True)\n",
    "test_dataloader = DataLoader(mnist_test, batch_size=1)"
   ]
  },
  {
   "cell_type": "code",
   "execution_count": 15,
   "metadata": {},
   "outputs": [],
   "source": [
    "input_shape = next(iter(train_dataloader))[0].shape[1]\n",
    "model = MLP(input_size=input_shape, output_size=mnist_train.CLASSES, hidden_size=512)"
   ]
  },
  {
   "cell_type": "code",
   "execution_count": 16,
   "metadata": {},
   "outputs": [],
   "source": [
    "optimizer = SGD(learning_rate=0.001)\n",
    "criterion = MSELoss()"
   ]
  },
  {
   "cell_type": "code",
   "execution_count": 17,
   "metadata": {},
   "outputs": [],
   "source": [
    "trainer_config = {\n",
    "    \"model\": model, \n",
    "    \"optimizer\": optimizer, \n",
    "    \"criterion\": criterion, \n",
    "    \"do_train\": True,\n",
    "    \"do_eval\": True,\n",
    "    \"epochs\": 15, \n",
    "    \"batch_size\": 64,\n",
    "    \"eval_metric\": \"accuracy\"\n",
    "}"
   ]
  },
  {
   "cell_type": "code",
   "execution_count": 18,
   "metadata": {},
   "outputs": [
    {
     "name": "stderr",
     "output_type": "stream",
     "text": [
      "Epoch 0: 100%|██████████| 938/938 [00:08<00:00, 110.68it/s]\n"
     ]
    },
    {
     "name": "stdout",
     "output_type": "stream",
     "text": [
      "Train Loss: 0.013418569067243738\n",
      "Eval loss: 0.007808531914450715\n",
      "Eval metric: 0.95\n"
     ]
    },
    {
     "name": "stderr",
     "output_type": "stream",
     "text": [
      "Epoch 1: 100%|██████████| 938/938 [00:08<00:00, 111.55it/s]\n"
     ]
    },
    {
     "name": "stdout",
     "output_type": "stream",
     "text": [
      "Train Loss: 0.00519584535229425\n",
      "Eval loss: 0.0067359446007524805\n",
      "Eval metric: 0.9568\n"
     ]
    },
    {
     "name": "stderr",
     "output_type": "stream",
     "text": [
      "Epoch 2: 100%|██████████| 938/938 [00:07<00:00, 119.10it/s]\n"
     ]
    },
    {
     "name": "stdout",
     "output_type": "stream",
     "text": [
      "Train Loss: 0.003308296930085714\n",
      "Eval loss: 0.005533800779441153\n",
      "Eval metric: 0.9642\n"
     ]
    },
    {
     "name": "stderr",
     "output_type": "stream",
     "text": [
      "Epoch 3: 100%|██████████| 938/938 [00:07<00:00, 123.36it/s]\n"
     ]
    },
    {
     "name": "stdout",
     "output_type": "stream",
     "text": [
      "Train Loss: 0.002301710391143631\n",
      "Eval loss: 0.005532984625576431\n",
      "Eval metric: 0.9649\n"
     ]
    },
    {
     "name": "stderr",
     "output_type": "stream",
     "text": [
      "Epoch 4: 100%|██████████| 938/938 [00:07<00:00, 119.99it/s]\n"
     ]
    },
    {
     "name": "stdout",
     "output_type": "stream",
     "text": [
      "Train Loss: 0.0015654257454598833\n",
      "Eval loss: 0.005208496747461924\n",
      "Eval metric: 0.9673\n"
     ]
    },
    {
     "name": "stderr",
     "output_type": "stream",
     "text": [
      "Epoch 5: 100%|██████████| 938/938 [00:07<00:00, 123.00it/s]\n"
     ]
    },
    {
     "name": "stdout",
     "output_type": "stream",
     "text": [
      "Train Loss: 0.001115926354892198\n",
      "Eval loss: 0.0050826314927151514\n",
      "Eval metric: 0.9681\n"
     ]
    },
    {
     "name": "stderr",
     "output_type": "stream",
     "text": [
      "Epoch 6: 100%|██████████| 938/938 [00:07<00:00, 133.79it/s]\n"
     ]
    },
    {
     "name": "stdout",
     "output_type": "stream",
     "text": [
      "Train Loss: 0.0007057757899042132\n",
      "Eval loss: 0.004660290156752044\n",
      "Eval metric: 0.9711\n"
     ]
    },
    {
     "name": "stderr",
     "output_type": "stream",
     "text": [
      "Epoch 7: 100%|██████████| 938/938 [00:07<00:00, 131.00it/s]\n"
     ]
    },
    {
     "name": "stdout",
     "output_type": "stream",
     "text": [
      "Train Loss: 0.0004821310646655603\n",
      "Eval loss: 0.005021913321477049\n",
      "Eval metric: 0.9685\n"
     ]
    },
    {
     "name": "stderr",
     "output_type": "stream",
     "text": [
      "Epoch 8: 100%|██████████| 938/938 [00:07<00:00, 133.59it/s]\n"
     ]
    },
    {
     "name": "stdout",
     "output_type": "stream",
     "text": [
      "Train Loss: 0.0003091072819061209\n",
      "Eval loss: 0.004566026398712162\n",
      "Eval metric: 0.9714\n"
     ]
    },
    {
     "name": "stderr",
     "output_type": "stream",
     "text": [
      "Epoch 9: 100%|██████████| 938/938 [00:07<00:00, 127.58it/s]\n"
     ]
    },
    {
     "name": "stdout",
     "output_type": "stream",
     "text": [
      "Train Loss: 0.00020532257738991512\n",
      "Eval loss: 0.004487802454766592\n",
      "Eval metric: 0.9725\n"
     ]
    },
    {
     "name": "stderr",
     "output_type": "stream",
     "text": [
      "Epoch 10: 100%|██████████| 938/938 [00:07<00:00, 126.51it/s]\n"
     ]
    },
    {
     "name": "stdout",
     "output_type": "stream",
     "text": [
      "Train Loss: 0.0001152865224094132\n",
      "Eval loss: 0.0044182315823432525\n",
      "Eval metric: 0.973\n"
     ]
    },
    {
     "name": "stderr",
     "output_type": "stream",
     "text": [
      "Epoch 11: 100%|██████████| 938/938 [00:07<00:00, 126.33it/s]\n"
     ]
    },
    {
     "name": "stdout",
     "output_type": "stream",
     "text": [
      "Train Loss: 7.130651076896152e-05\n",
      "Eval loss: 0.004529812206226799\n",
      "Eval metric: 0.972\n"
     ]
    },
    {
     "name": "stderr",
     "output_type": "stream",
     "text": [
      "Epoch 12: 100%|██████████| 938/938 [00:07<00:00, 128.66it/s]\n"
     ]
    },
    {
     "name": "stdout",
     "output_type": "stream",
     "text": [
      "Train Loss: 5.146912560685932e-05\n",
      "Eval loss: 0.004485697017297141\n",
      "Eval metric: 0.9727\n"
     ]
    },
    {
     "name": "stderr",
     "output_type": "stream",
     "text": [
      "Epoch 13: 100%|██████████| 938/938 [00:07<00:00, 125.02it/s]\n"
     ]
    },
    {
     "name": "stdout",
     "output_type": "stream",
     "text": [
      "Train Loss: 2.8652221046017834e-05\n",
      "Eval loss: 0.004379786299830868\n",
      "Eval metric: 0.9731\n"
     ]
    },
    {
     "name": "stderr",
     "output_type": "stream",
     "text": [
      "Epoch 14: 100%|██████████| 938/938 [00:07<00:00, 128.53it/s]\n"
     ]
    },
    {
     "name": "stdout",
     "output_type": "stream",
     "text": [
      "Train Loss: 1.945654160068258e-05\n",
      "Eval loss: 0.00441071280536499\n",
      "Eval metric: 0.9731\n"
     ]
    },
    {
     "data": {
      "image/png": "[encoded data removed]",
      "text/plain": [
       "<Figure size 640x480 with 1 Axes>"
      ]
     },
     "metadata": {},
     "output_type": "display_data"
    }
   ],
   "source": [
    "trainer = Trainer(**trainer_config)\n",
    "trainer.train(train_data=train_dataloader, eval_data=test_dataloader)"
   ]
  }
 ],
 "metadata": {
  "kernelspec": {
   "display_name": "hse-mlp",
   "language": "python",
   "name": "python3"
  },
  "language_info": {
   "codemirror_mode": {
    "name": "ipython",
    "version": 3
   },
   "file_extension": ".py",
   "mimetype": "text/x-python",
   "name": "python",
   "nbconvert_exporter": "python",
   "pygments_lexer": "ipython3",
   "version": "3.13.0"
  }
 },
 "nbformat": 4,
 "nbformat_minor": 2
}
