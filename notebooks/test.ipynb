{
 "cells": [
  {
   "cell_type": "code",
   "execution_count": 1,
   "metadata": {},
   "outputs": [],
   "source": [
    "from src.layers.linear import Linear\n",
    "from src.activation.functional import ReLU, Softmax, MSELoss\n",
    "from src.optim.optim import SGD\n",
    "from src.utils.model import ModelClass\n",
    "\n",
    "import numpy as np\n",
    "\n",
    "import torch\n",
    "from torch import nn\n",
    "from torch.autograd import backward"
   ]
  },
  {
   "cell_type": "markdown",
   "metadata": {},
   "source": [
    "linear"
   ]
  },
  {
   "cell_type": "code",
   "execution_count": null,
   "metadata": {},
   "outputs": [],
   "source": [
    "inputs = np.array([[0.5, 0.7, 0.3, 0.1, 0.8],\n",
    "                  [0.3, 0.1, 0.9, 0.05, 0.6]])\n",
    "gt = np.array([1, 3])"
   ]
  },
  {
   "cell_type": "code",
   "execution_count": 3,
   "metadata": {},
   "outputs": [],
   "source": [
    "my_lin = Linear(5, 10)"
   ]
  },
  {
   "cell_type": "code",
   "execution_count": 4,
   "metadata": {},
   "outputs": [],
   "source": [
    "torch_linear = nn.Linear(5, 10)"
   ]
  },
  {
   "cell_type": "code",
   "execution_count": 5,
   "metadata": {},
   "outputs": [],
   "source": [
    "torch_linear.weight = torch.nn.Parameter(torch.tensor(my_lin.weights, dtype=torch.float32), requires_grad=True)\n",
    "torch_linear.bias = torch.nn.Parameter(torch.tensor(my_lin.bias, dtype=torch.float32), requires_grad=True)"
   ]
  },
  {
   "cell_type": "code",
   "execution_count": 6,
   "metadata": {},
   "outputs": [
    {
     "name": "stdout",
     "output_type": "stream",
     "text": [
      "Parameter containing:\n",
      "tensor([[ 0.2928,  0.1157,  0.0380,  0.0329, -0.2565],\n",
      "        [ 0.2174, -0.0309, -0.1320, -0.1475,  0.0106],\n",
      "        [ 0.2598,  0.0962,  0.3561, -0.2953,  0.2818],\n",
      "        [-0.3363, -0.1118,  0.0713,  0.0859,  0.1601],\n",
      "        [ 0.4254,  0.1318,  0.3208,  0.1220,  0.1662],\n",
      "        [ 0.1186, -0.3171,  0.4217,  0.3012, -0.0798],\n",
      "        [-0.1783,  0.3036,  0.2656, -0.1700,  0.1642],\n",
      "        [-0.0389, -0.2568, -0.0304, -0.1873,  0.2975],\n",
      "        [ 0.4428, -0.1704,  0.0336, -0.0153,  0.2594],\n",
      "        [ 0.1881,  0.1682,  0.1454, -0.0867,  0.3107]], requires_grad=True)\n",
      "Parameter containing:\n",
      "tensor([ 0.0173,  0.1258,  0.3007,  0.3291, -0.1374, -0.4294, -0.1892, -0.1359,\n",
      "        -0.1624,  0.4464], requires_grad=True)\n"
     ]
    }
   ],
   "source": [
    "print(torch_linear.weight)\n",
    "print(torch_linear.bias)"
   ]
  },
  {
   "cell_type": "code",
   "execution_count": 7,
   "metadata": {},
   "outputs": [
    {
     "name": "stdout",
     "output_type": "stream",
     "text": [
      "[[ 0.29281613  0.11571975  0.03801658  0.03292241 -0.25654045]\n",
      " [ 0.21735357 -0.03093504 -0.13199356 -0.14752127  0.01059619]\n",
      " [ 0.25981742  0.09618655  0.35613182 -0.29533187  0.28175324]\n",
      " [-0.3362932  -0.11179402  0.07128712  0.08589339  0.16009822]\n",
      " [ 0.42539454  0.1317801   0.3207905   0.12200092  0.1662467 ]\n",
      " [ 0.11857583 -0.31710827  0.42166135  0.30120802 -0.07984247]\n",
      " [-0.17830859  0.30357257  0.26555994 -0.16996318  0.16419888]\n",
      " [-0.03886025 -0.25681388 -0.03041477 -0.18730627  0.29753914]\n",
      " [ 0.44281018 -0.1704489   0.03358337 -0.01527544  0.25943118]\n",
      " [ 0.18805248  0.16822606  0.14535068 -0.0867355   0.3106707 ]]\n",
      "[ 0.01733899  0.12575734  0.3006754   0.3291131  -0.13741049 -0.42936638\n",
      " -0.18916835 -0.13594452 -0.16239016  0.4463657 ]\n"
     ]
    }
   ],
   "source": [
    "print(my_lin.weights)\n",
    "print(my_lin.bias)"
   ]
  },
  {
   "cell_type": "code",
   "execution_count": 8,
   "metadata": {},
   "outputs": [
    {
     "data": {
      "text/plain": [
       "array([[ 0.05421574,  0.16690635,  0.80062364,  0.24076474,  0.40896745,\n",
       "        -0.49930902,  0.12820892, -0.1249681 ,  0.15579312,  0.94161841],\n",
       "       [-0.00130742,  0.06805735,  0.86304327,  0.38155775,  0.39794539,\n",
       "        -0.07885433,  0.11672144, -0.0314991 ,  0.13852798,  0.83248532]])"
      ]
     },
     "execution_count": 8,
     "metadata": {},
     "output_type": "execute_result"
    }
   ],
   "source": [
    "my_lin.forward(inputs)"
   ]
  },
  {
   "cell_type": "code",
   "execution_count": 9,
   "metadata": {},
   "outputs": [
    {
     "data": {
      "text/plain": [
       "tensor([[ 0.0542,  0.1669,  0.8006,  0.2408,  0.4090, -0.4993,  0.1282, -0.1250,\n",
       "          0.1558,  0.9416],\n",
       "        [-0.0013,  0.0681,  0.8630,  0.3816,  0.3979, -0.0789,  0.1167, -0.0315,\n",
       "          0.1385,  0.8325]], grad_fn=<AddmmBackward0>)"
      ]
     },
     "execution_count": 9,
     "metadata": {},
     "output_type": "execute_result"
    }
   ],
   "source": [
    "torch_linear.forward(torch.tensor(inputs, dtype=torch.float32))"
   ]
  },
  {
   "cell_type": "markdown",
   "metadata": {},
   "source": [
    "softmax"
   ]
  },
  {
   "cell_type": "code",
   "execution_count": 10,
   "metadata": {},
   "outputs": [],
   "source": [
    "torch_softmax = nn.Softmax(dim=1)\n",
    "my_softmax = Softmax()"
   ]
  },
  {
   "cell_type": "code",
   "execution_count": 11,
   "metadata": {},
   "outputs": [
    {
     "data": {
      "text/plain": [
       "tensor([[0.0776, 0.0869, 0.1637, 0.0935, 0.1107, 0.0446, 0.0836, 0.0649, 0.0859,\n",
       "         0.1885],\n",
       "        [0.0721, 0.0772, 0.1711, 0.1057, 0.1074, 0.0667, 0.0811, 0.0699, 0.0829,\n",
       "         0.1659]], grad_fn=<SoftmaxBackward0>)"
      ]
     },
     "execution_count": 11,
     "metadata": {},
     "output_type": "execute_result"
    }
   ],
   "source": [
    "torch_res = torch_linear.forward(torch.tensor(inputs, dtype=torch.float32))\n",
    "torch_softmax(torch_res)"
   ]
  },
  {
   "cell_type": "code",
   "execution_count": 12,
   "metadata": {},
   "outputs": [
    {
     "data": {
      "text/plain": [
       "array([[0.07762164, 0.08688078, 0.1637358 , 0.09354057, 0.110675  ,\n",
       "        0.04462622, 0.08358294, 0.06488798, 0.0859206 , 0.18852845],\n",
       "       [0.07206937, 0.07724591, 0.17105409, 0.10568831, 0.10743457,\n",
       "        0.06669182, 0.08109798, 0.069926  , 0.08288587, 0.16590609]])"
      ]
     },
     "execution_count": 12,
     "metadata": {},
     "output_type": "execute_result"
    }
   ],
   "source": [
    "my_res = my_lin.forward(inputs)\n",
    "my_softmax(my_res)"
   ]
  },
  {
   "cell_type": "markdown",
   "metadata": {},
   "source": [
    "relu"
   ]
  },
  {
   "cell_type": "code",
   "execution_count": 13,
   "metadata": {},
   "outputs": [],
   "source": [
    "torch_relu = nn.ReLU()\n",
    "my_relu = ReLU()"
   ]
  },
  {
   "cell_type": "code",
   "execution_count": 14,
   "metadata": {},
   "outputs": [
    {
     "data": {
      "text/plain": [
       "tensor([[0.0542, 0.1669, 0.8006, 0.2408, 0.4090, 0.0000, 0.1282, 0.0000, 0.1558,\n",
       "         0.9416],\n",
       "        [0.0000, 0.0681, 0.8630, 0.3816, 0.3979, 0.0000, 0.1167, 0.0000, 0.1385,\n",
       "         0.8325]], grad_fn=<ReluBackward0>)"
      ]
     },
     "execution_count": 14,
     "metadata": {},
     "output_type": "execute_result"
    }
   ],
   "source": [
    "torch_res = torch_linear.forward(torch.tensor(inputs, dtype=torch.float32))\n",
    "torch_relu(torch_res)"
   ]
  },
  {
   "cell_type": "code",
   "execution_count": 15,
   "metadata": {},
   "outputs": [
    {
     "data": {
      "text/plain": [
       "array([[0.05421574, 0.16690635, 0.80062364, 0.24076474, 0.40896745,\n",
       "        0.        , 0.12820892, 0.        , 0.15579312, 0.94161841],\n",
       "       [0.        , 0.06805735, 0.86304327, 0.38155775, 0.39794539,\n",
       "        0.        , 0.11672144, 0.        , 0.13852798, 0.83248532]])"
      ]
     },
     "execution_count": 15,
     "metadata": {},
     "output_type": "execute_result"
    }
   ],
   "source": [
    "my_res = my_lin.forward(inputs)\n",
    "my_relu(my_res)"
   ]
  },
  {
   "cell_type": "code",
   "execution_count": null,
   "metadata": {},
   "outputs": [],
   "source": []
  }
 ],
 "metadata": {
  "kernelspec": {
   "display_name": "venv",
   "language": "python",
   "name": "python3"
  },
  "language_info": {
   "codemirror_mode": {
    "name": "ipython",
    "version": 3
   },
   "file_extension": ".py",
   "mimetype": "text/x-python",
   "name": "python",
   "nbconvert_exporter": "python",
   "pygments_lexer": "ipython3",
   "version": "3.9.6"
  }
 },
 "nbformat": 4,
 "nbformat_minor": 2
}
